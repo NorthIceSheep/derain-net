{
 "cells": [
  {
   "cell_type": "code",
   "execution_count": 2,
   "metadata": {},
   "outputs": [],
   "source": [
    "import os \n",
    "import tensorflow as tf"
   ]
  },
  {
   "cell_type": "code",
   "execution_count": 3,
   "metadata": {},
   "outputs": [],
   "source": [
    "fnames_dataset = [\n",
    "    \"/Users/jonathanj/workspace/rainy-image-dataset/rain.tfrecord\"\n",
    "]"
   ]
  },
  {
   "cell_type": "code",
   "execution_count": 11,
   "metadata": {},
   "outputs": [],
   "source": [
    "def _parse(example_proto):\n",
    "    keys_to_features = {\n",
    "        'image/in/filename': tf.FixedLenFeature((), tf.string, default_value=''),\n",
    "        'image/out/filename': tf.FixedLenFeature((), tf.string, default_value=''),\n",
    "        'image/height': tf.FixedLenFeature((), tf.int64, default_value=0),\n",
    "        'image/width': tf.FixedLenFeature((), tf.int64, default_value=0),\n",
    "        'image/in/contents': tf.FixedLenFeature((), tf.string, default_value=''),\n",
    "        'image/out/contents': tf.FixedLenFeature((), tf.string, default_value=''),\n",
    "    }\n",
    "    parsed = tf.parse_single_example(example_proto, keys_to_features)\n",
    "    \n",
    "    def _decode(img):\n",
    "        decoded = tf.image.decode_image(img)\n",
    "        return decoded\n",
    "        reshaped = tf.reshape(decoded, [384, 384, 1])\n",
    "        return reshaped\n",
    "    \n",
    "    return {'image_data': _decode(parsed['image/in/contents'])}, _decode(parsed['image/out/contents'])\n"
   ]
  },
  {
   "cell_type": "code",
   "execution_count": 12,
   "metadata": {},
   "outputs": [],
   "source": [
    "def input_fn():\n",
    "    dataset = tf.data.TFRecordDataset(fnames_dataset)\n",
    "    dataset = dataset.map(_parse)\n",
    "    dataset = dataset.shuffle(buffer_size=1000)\n",
    "    \n",
    "    return dataset"
   ]
  },
  {
   "cell_type": "code",
   "execution_count": 28,
   "metadata": {},
   "outputs": [],
   "source": [
    "def model_fn(features, labels, mode, params):\n",
    "    inputs = features\n",
    "    expected_outputs = labels\n",
    "    tf.summary.image(\"inputs\", inputs)\n",
    "    tf.summary.image(\"expected_outputs\", expected_outputs)\n",
    "    \n",
    "    if mode == tf.estimator.ModeKeys.TRAIN:\n",
    "        pass\n",
    "    else:\n",
    "        raise tf.errors.UnimplementedError"
   ]
  },
  {
   "cell_type": "markdown",
   "metadata": {},
   "source": [
    "# Playground"
   ]
  },
  {
   "cell_type": "code",
   "execution_count": 16,
   "metadata": {},
   "outputs": [],
   "source": [
    "dataset = input_fn()\n",
    "iterator = dataset.make_one_shot_iterator()\n",
    "next_element = iterator.get_next()"
   ]
  },
  {
   "cell_type": "code",
   "execution_count": 18,
   "metadata": {},
   "outputs": [],
   "source": [
    "elem = sess.run(next_element)"
   ]
  },
  {
   "cell_type": "code",
   "execution_count": 22,
   "metadata": {},
   "outputs": [
    {
     "data": {
      "text/plain": [
       "(512, 384, 3)"
      ]
     },
     "execution_count": 22,
     "metadata": {},
     "output_type": "execute_result"
    }
   ],
   "source": [
    "elem[0]['image_data'].shape"
   ]
  },
  {
   "cell_type": "code",
   "execution_count": 24,
   "metadata": {},
   "outputs": [
    {
     "data": {
      "text/plain": [
       "(512, 384, 3)"
      ]
     },
     "execution_count": 24,
     "metadata": {},
     "output_type": "execute_result"
    }
   ],
   "source": [
    "elem[1].shape"
   ]
  },
  {
   "cell_type": "code",
   "execution_count": 14,
   "metadata": {},
   "outputs": [],
   "source": [
    "sess = tf.Session()\n",
    "while True:\n",
    "    try:\n",
    "        sess.run(next_element)\n",
    "    except tf.errors.OutOfRangeError:\n",
    "        break"
   ]
  }
 ],
 "metadata": {
  "kernelspec": {
   "display_name": "tfx",
   "language": "python",
   "name": "tfx"
  },
  "language_info": {
   "codemirror_mode": {
    "name": "ipython",
    "version": 2
   },
   "file_extension": ".py",
   "mimetype": "text/x-python",
   "name": "python",
   "nbconvert_exporter": "python",
   "pygments_lexer": "ipython2",
   "version": "2.7.16"
  }
 },
 "nbformat": 4,
 "nbformat_minor": 2
}
