{
 "cells": [
  {
   "cell_type": "code",
   "execution_count": 1,
   "metadata": {},
   "outputs": [],
   "source": [
    "import os \n",
    "import tensorflow as tf"
   ]
  },
  {
   "cell_type": "code",
   "execution_count": 3,
   "metadata": {},
   "outputs": [],
   "source": [
    "fnames_dataset = [\n",
    "    \"/Users/jonathanj/workspace/rainy-image-dataset/rain.tfrecord\"\n",
    "]"
   ]
  },
  {
   "cell_type": "code",
   "execution_count": 68,
   "metadata": {},
   "outputs": [],
   "source": [
    "def _parse(example_proto):\n",
    "    keys_to_features = {\n",
    "        'image/in/filename': tf.FixedLenFeature((), tf.string, default_value=''),\n",
    "        'image/out/filename': tf.FixedLenFeature((), tf.string, default_value=''),\n",
    "        'image/height': tf.FixedLenFeature((), tf.int64, default_value=0),\n",
    "        'image/width': tf.FixedLenFeature((), tf.int64, default_value=0),\n",
    "    }\n",
    "    parsed = tf.parse_single_example(example_proto, keys_to_features)\n",
    "    return {\n",
    "        k: parsed[k] for k in [\n",
    "            'image/in/filename',\n",
    "            'image/out/filename',\n",
    "            'image/height',\n",
    "            'image/width',\n",
    "        ]\n",
    "    }"
   ]
  },
  {
   "cell_type": "code",
   "execution_count": 69,
   "metadata": {},
   "outputs": [],
   "source": [
    "dataset = tf.data.TFRecordDataset(fnames_dataset)\n",
    "dataset = dataset.map(_parse)\n",
    "dataset = dataset.shuffle(buffer_size=1000)\n",
    "\n",
    "iterator = dataset.make_one_shot_iterator()\n",
    "next_element = iterator.get_next()"
   ]
  },
  {
   "cell_type": "code",
   "execution_count": 70,
   "metadata": {},
   "outputs": [],
   "source": [
    "sess = tf.Session()\n",
    "while True:\n",
    "    try:\n",
    "        sess.run(next_element)\n",
    "    except tf.errors.OutOfRangeError:\n",
    "        break"
   ]
  }
 ],
 "metadata": {
  "kernelspec": {
   "display_name": "tfx",
   "language": "python",
   "name": "tfx"
  },
  "language_info": {
   "codemirror_mode": {
    "name": "ipython",
    "version": 2
   },
   "file_extension": ".py",
   "mimetype": "text/x-python",
   "name": "python",
   "nbconvert_exporter": "python",
   "pygments_lexer": "ipython2",
   "version": "2.7.16"
  }
 },
 "nbformat": 4,
 "nbformat_minor": 2
}
