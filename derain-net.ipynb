{
 "cells": [
  {
   "cell_type": "code",
   "execution_count": 2,
   "metadata": {},
   "outputs": [],
   "source": [
    "import os \n",
    "import tensorflow as tf\n",
    "\n",
    "from typing import Dict"
   ]
  },
  {
   "cell_type": "code",
   "execution_count": 3,
   "metadata": {},
   "outputs": [],
   "source": [
    "fnames_dataset = [\n",
    "    \"/Users/jonathanj/workspace/rainy-image-dataset/rain.tfrecord\"\n",
    "]"
   ]
  },
  {
   "cell_type": "code",
   "execution_count": 4,
   "metadata": {},
   "outputs": [],
   "source": [
    "def _parse(example_proto: tf.train.Example) -> Dict[str, tf.Tensor]:\n",
    "    def _fixed(t, default):\n",
    "        return tf.FixedLenFeature((), t, default_value=default)\n",
    "    \n",
    "    keys_to_features = {\n",
    "        'image/in/filename': _fixed(tf.string, ''),\n",
    "        'image/out/filename': _fixed(tf.string, ''),\n",
    "        'image/height': _fixed(tf.int64, 0),\n",
    "        'image/width': _fixed(tf.int64, 0),\n",
    "        'image/in/contents': _fixed(tf.string, ''),\n",
    "        'image/out/contents': _fixed(tf.string, ''),\n",
    "    }\n",
    "    parsed = tf.parse_single_example(example_proto, keys_to_features)\n",
    "    \n",
    "    def _decode(img):\n",
    "        decoded = tf.image.decode_image(img)\n",
    "        return decoded\n",
    "        reshaped = tf.reshape(decoded, [384, 384, 1])\n",
    "        return reshaped\n",
    "    \n",
    "    return {'image_data': _decode(parsed['image/in/contents'])}, _decode(parsed['image/out/contents'])\n"
   ]
  },
  {
   "cell_type": "code",
   "execution_count": 7,
   "metadata": {},
   "outputs": [],
   "source": [
    "def input_fn() -> tf.data.Dataset:\n",
    "    dataset = tf.data.TFRecordDataset(fnames_dataset)\n",
    "    dataset = dataset.map(_parse)\n",
    "    dataset = dataset.shuffle(buffer_size=1000)\n",
    "    \n",
    "    return dataset"
   ]
  },
  {
   "cell_type": "code",
   "execution_count": 28,
   "metadata": {},
   "outputs": [],
   "source": [
    "def model_fn(features, labels, mode, params):\n",
    "    inputs = features\n",
    "    expected_outputs = labels\n",
    "    tf.summary.image(\"inputs\", inputs)\n",
    "    tf.summary.image(\"expected_outputs\", expected_outputs)\n",
    "    \n",
    "    if mode == tf.estimator.ModeKeys.TRAIN:\n",
    "        pass\n",
    "    else:\n",
    "        raise tf.errors.UnimplementedError"
   ]
  },
  {
   "cell_type": "markdown",
   "metadata": {},
   "source": [
    "# Playground"
   ]
  },
  {
   "cell_type": "code",
   "execution_count": 16,
   "metadata": {},
   "outputs": [],
   "source": [
    "dataset = input_fn()\n",
    "iterator = dataset.make_one_shot_iterator()\n",
    "next_element = iterator.get_next()"
   ]
  },
  {
   "cell_type": "code",
   "execution_count": 18,
   "metadata": {},
   "outputs": [],
   "source": [
    "elem = sess.run(next_element)"
   ]
  },
  {
   "cell_type": "code",
   "execution_count": 22,
   "metadata": {},
   "outputs": [
    {
     "data": {
      "text/plain": [
       "(512, 384, 3)"
      ]
     },
     "execution_count": 22,
     "metadata": {},
     "output_type": "execute_result"
    }
   ],
   "source": [
    "elem[0]['image_data'].shape"
   ]
  },
  {
   "cell_type": "code",
   "execution_count": 24,
   "metadata": {},
   "outputs": [
    {
     "data": {
      "text/plain": [
       "(512, 384, 3)"
      ]
     },
     "execution_count": 24,
     "metadata": {},
     "output_type": "execute_result"
    }
   ],
   "source": [
    "elem[1].shape"
   ]
  },
  {
   "cell_type": "code",
   "execution_count": 14,
   "metadata": {},
   "outputs": [],
   "source": [
    "sess = tf.Session()\n",
    "while True:\n",
    "    try:\n",
    "        sess.run(next_element)\n",
    "    except tf.errors.OutOfRangeError:\n",
    "        break"
   ]
  }
 ],
 "metadata": {
  "kernelspec": {
   "display_name": "Python 3",
   "language": "python",
   "name": "python3"
  },
  "language_info": {
   "codemirror_mode": {
    "name": "ipython",
    "version": 3
   },
   "file_extension": ".py",
   "mimetype": "text/x-python",
   "name": "python",
   "nbconvert_exporter": "python",
   "pygments_lexer": "ipython3",
   "version": "3.7.3"
  }
 },
 "nbformat": 4,
 "nbformat_minor": 2
}
