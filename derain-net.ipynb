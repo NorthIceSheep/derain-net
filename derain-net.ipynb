{
 "cells": [
  {
   "cell_type": "code",
   "execution_count": 12,
   "metadata": {},
   "outputs": [],
   "source": [
    "import os \n",
    "import tensorflow as tf\n",
    "\n",
    "from typing import Dict, List, Tuple"
   ]
  },
  {
   "cell_type": "code",
   "execution_count": 2,
   "metadata": {},
   "outputs": [],
   "source": [
    "fnames_dataset = [\n",
    "    \"/Users/jonathanj/workspace/rainy-image-dataset/rain.tfrecord\"\n",
    "]"
   ]
  },
  {
   "cell_type": "code",
   "execution_count": 81,
   "metadata": {},
   "outputs": [],
   "source": [
    "def _parse(example_proto: tf.train.Example) -> Tuple[Dict[str, tf.Tensor], tf.Tensor]:\n",
    "    def _fixed(t, default):\n",
    "        return tf.FixedLenFeature((), t, default_value=default)\n",
    "    \n",
    "    keys_to_features = {\n",
    "        'image/in/filename': _fixed(tf.string, ''),\n",
    "        'image/out/filename': _fixed(tf.string, ''),\n",
    "        'image/height': _fixed(tf.int64, 0),\n",
    "        'image/width': _fixed(tf.int64, 0),\n",
    "        'image/in/contents': _fixed(tf.string, ''),\n",
    "        'image/out/contents': _fixed(tf.string, ''),\n",
    "    }\n",
    "    parsed = tf.parse_single_example(example_proto, keys_to_features)\n",
    "    \n",
    "    def _decode(img):\n",
    "        _img = tf.image.decode_image(img, dtype=tf.dtypes.float32)\n",
    "        _img = tf.image.crop_to_bounding_box(_img, 0, 0, 300, 300)\n",
    "        return _img\n",
    "    \n",
    "    return _decode(parsed['image/in/contents']), _decode(parsed['image/out/contents'])\n"
   ]
  },
  {
   "cell_type": "code",
   "execution_count": 82,
   "metadata": {},
   "outputs": [],
   "source": [
    "def input_fn(fs: List[str]) -> tf.data.Dataset:\n",
    "    dataset = tf.data.TFRecordDataset(fs)\n",
    "    dataset = dataset.map(_parse)\n",
    "    dataset = dataset.shuffle(buffer_size=1000)\n",
    "    dataset = dataset.batch(1)\n",
    "    \n",
    "    return dataset"
   ]
  },
  {
   "cell_type": "code",
   "execution_count": 90,
   "metadata": {},
   "outputs": [],
   "source": [
    "def model_fn(\n",
    "    features, \n",
    "    labels, \n",
    "    mode: tf.estimator.ModeKeys,\n",
    "    params,\n",
    ") -> tf.estimator.EstimatorSpec:\n",
    "    inputs = features\n",
    "    expected_outputs = labels\n",
    "    #tf.summary.image(\"inputs\", inputs)\n",
    "    #tf.summary.image(\"expected_outputs\", expected_outputs)\n",
    "    \n",
    "    model = tf.keras.Sequential([\n",
    "        tf.keras.layers.Conv2D(\n",
    "            3, \n",
    "            (16, 16),\n",
    "            input_shape=(300, 300, 3),\n",
    "            use_bias=True,\n",
    "            activation=tf.nn.tanh,\n",
    "            padding='same',\n",
    "        ),\n",
    "        tf.keras.layers.Conv2D(\n",
    "            512,\n",
    "            (1, 1),\n",
    "            use_bias=True,\n",
    "            activation=tf.nn.tanh,\n",
    "        ),\n",
    "        tf.keras.layers.Conv2D(\n",
    "            3,\n",
    "            (8, 8),\n",
    "            use_bias=True,\n",
    "            padding='same',\n",
    "        ),\n",
    "    ])\n",
    "    \n",
    "    if mode == tf.estimator.ModeKeys.TRAIN:\n",
    "        pred = model(inputs, training=True)\n",
    "        norm = tf.norm(expected_outputs - pred, ord=\"fro\", axis=[-2, -1])\n",
    "        loss = tf.reduce_mean(norm, 1)\n",
    "        optimizer = tf.train.GradientDescentOptimizer(params[\"learn_rate\"])\n",
    "\n",
    "        train_op = optimizer.minimize(loss, global_step=tf.train.get_or_create_global_step())\n",
    "\n",
    "        return tf.estimator.EstimatorSpec(\n",
    "            mode,\n",
    "            loss=loss,\n",
    "            train_op=train_op,\n",
    "        )\n",
    "    else:\n",
    "        raise tf.errors.UnimplementedError"
   ]
  },
  {
   "cell_type": "markdown",
   "metadata": {},
   "source": [
    "# Playground"
   ]
  },
  {
   "cell_type": "code",
   "execution_count": 91,
   "metadata": {
    "scrolled": true
   },
   "outputs": [
    {
     "name": "stdout",
     "output_type": "stream",
     "text": [
      "INFO:tensorflow:Using default config.\n",
      "INFO:tensorflow:Using config: {'_model_dir': '/tmp/derain-ckpt', '_tf_random_seed': None, '_save_summary_steps': 100, '_save_checkpoints_steps': None, '_save_checkpoints_secs': 600, '_session_config': allow_soft_placement: true\n",
      "graph_options {\n",
      "  rewrite_options {\n",
      "    meta_optimizer_iterations: ONE\n",
      "  }\n",
      "}\n",
      ", '_keep_checkpoint_max': 5, '_keep_checkpoint_every_n_hours': 10000, '_log_step_count_steps': 100, '_train_distribute': None, '_device_fn': None, '_protocol': None, '_eval_distribute': None, '_experimental_distribute': None, '_service': None, '_cluster_spec': <tensorflow.python.training.server_lib.ClusterSpec object at 0x7f6624374f28>, '_task_type': 'worker', '_task_id': 0, '_global_id_in_cluster': 0, '_master': '', '_evaluation_master': '', '_is_chief': True, '_num_ps_replicas': 0, '_num_worker_replicas': 1}\n"
     ]
    }
   ],
   "source": [
    "regressor = tf.estimator.Estimator(\n",
    "    model_fn=model_fn,\n",
    "    model_dir='/tmp/derain-ckpt',\n",
    "    config=None,\n",
    "    params={'learn_rate': 0.01},\n",
    ")"
   ]
  },
  {
   "cell_type": "code",
   "execution_count": null,
   "metadata": {},
   "outputs": [
    {
     "name": "stdout",
     "output_type": "stream",
     "text": [
      "INFO:tensorflow:Calling model_fn.\n",
      "WARNING:tensorflow:From /home/jjin/proj/derain-net/.venv/lib/python3.6/site-packages/tensorflow/python/ops/math_ops.py:3066: to_int32 (from tensorflow.python.ops.math_ops) is deprecated and will be removed in a future version.\n",
      "Instructions for updating:\n",
      "Use tf.cast instead.\n",
      "INFO:tensorflow:Done calling model_fn.\n",
      "INFO:tensorflow:Create CheckpointSaverHook.\n",
      "INFO:tensorflow:Graph was finalized.\n",
      "INFO:tensorflow:Running local_init_op.\n",
      "INFO:tensorflow:Done running local_init_op.\n",
      "INFO:tensorflow:Saving checkpoints for 0 into /tmp/derain-ckpt/model.ckpt.\n"
     ]
    }
   ],
   "source": [
    "regressor.train(\n",
    "    input_fn=lambda: input_fn(['/home/jjin/proj/rainy-image-dataset/rain.tfrecord'])\n",
    ")"
   ]
  },
  {
   "cell_type": "code",
   "execution_count": 64,
   "metadata": {},
   "outputs": [],
   "source": [
    "dataset = input_fn(\"/home/jjin/proj/rainy-image-dataset/rain.tfrecord\")\n",
    "iterator = dataset.make_one_shot_iterator()\n",
    "next_element = iterator.get_next()"
   ]
  },
  {
   "cell_type": "code",
   "execution_count": 66,
   "metadata": {},
   "outputs": [],
   "source": [
    "sess = tf.Session()\n",
    "elem = sess.run(next_element)"
   ]
  }
 ],
 "metadata": {
  "kernelspec": {
   "display_name": "Python 3",
   "language": "python",
   "name": "python3"
  },
  "language_info": {
   "codemirror_mode": {
    "name": "ipython",
    "version": 3
   },
   "file_extension": ".py",
   "mimetype": "text/x-python",
   "name": "python",
   "nbconvert_exporter": "python",
   "pygments_lexer": "ipython3",
   "version": "3.6.7"
  }
 },
 "nbformat": 4,
 "nbformat_minor": 2
}
